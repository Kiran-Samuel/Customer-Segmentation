{
 "cells": [
  {
   "cell_type": "code",
   "execution_count": 1,
   "id": "0ad477ed",
   "metadata": {},
   "outputs": [],
   "source": [
    "#!pip install fastapi uvicorn"
   ]
  },
  {
   "cell_type": "code",
   "execution_count": 2,
   "id": "daafcc59",
   "metadata": {},
   "outputs": [],
   "source": [
    "import uvicorn\n",
    "from fastapi import FastAPI\n",
    "import numpy as np\n",
    "import pandas as pd\n",
    "import pickle\n",
    "from pydantic import BaseModel"
   ]
  },
  {
   "cell_type": "code",
   "execution_count": 3,
   "id": "d4efd1f5",
   "metadata": {},
   "outputs": [],
   "source": [
    "description = \"\"\"\n",
    "Mall segmentation API helps you to determine which group the customer belongs to.\n",
    "\n",
    "# Items\n",
    "\n",
    "You can find which category the customer is in\n",
    "\n",
    "# Users\n",
    "\n",
    "Just enter the fields below in the predict tab to make predictions\n",
    "\n",
    "All values are to be input as integers\n",
    "\n",
    "**Annual income**: Annual income of a customer in 1000s\n",
    "\n",
    "**Spending score**: Spending Score is assigned to the customer based on parameters like customer behavior and purchasing data. Enter values from 0 - 100(100 included)\n",
    "\n",
    "\"\"\""
   ]
  },
  {
   "cell_type": "code",
   "execution_count": 4,
   "id": "ecd1ce11",
   "metadata": {},
   "outputs": [],
   "source": [
    "# Initializing the app object\n",
    "app = FastAPI(title= \"Mall customer group\",\n",
    "              description= description)"
   ]
  },
  {
   "cell_type": "code",
   "execution_count": 5,
   "id": "1660a729",
   "metadata": {},
   "outputs": [],
   "source": [
    "# Opening and loading pickled files\n",
    "pickle_in = open('model_kmeans.pkl',\"rb\")\n",
    "model = pickle.load(pickle_in)\n",
    "scalar=pickle.load(open('scaling_kmeans.pkl','rb'))"
   ]
  },
  {
   "cell_type": "code",
   "execution_count": 6,
   "id": "02e15ab3",
   "metadata": {},
   "outputs": [],
   "source": [
    "@app.get('/')\n",
    "def index():\n",
    "    return {'Message': 'Welcome to Customer group prediction. Type /docs at the end of the above url'}"
   ]
  },
  {
   "cell_type": "code",
   "execution_count": 7,
   "id": "3b23442b",
   "metadata": {},
   "outputs": [],
   "source": [
    "@app.get('/{name}')\n",
    "def get_name(name: str):\n",
    "    return {'Hello, Please input your name here': f'{name}'}"
   ]
  },
  {
   "cell_type": "code",
   "execution_count": 8,
   "id": "3587fef1",
   "metadata": {},
   "outputs": [],
   "source": [
    "class group(BaseModel):\n",
    "    annual_income: int\n",
    "    spending_score: int"
   ]
  },
  {
   "cell_type": "code",
   "execution_count": 9,
   "id": "acf40cde",
   "metadata": {},
   "outputs": [],
   "source": [
    "@app.post('/predict')\n",
    "def predict_group(data: group):\n",
    "    data = data.dict()\n",
    "    annual_income = data['annual_income']\n",
    "    spending_score = data['spending_score']\n",
    "    \n",
    "    prediction = model.predict([[annual_income, spending_score]])\n",
    "    print(np.array(list(data.values())).reshape(1,-1))\n",
    "    scaled_data=scalar.transform(np.array(list(data.values())).reshape(1,-1))\n",
    "    prediction = model.predict(scaled_data)\n",
    "    if (prediction[0] == 0):\n",
    "        prediction = \"Customer with medium annual income and medium spending score\"\n",
    "    elif (prediction[0] == 1):\n",
    "        prediction = \"Customer with high annual income and low spending score\"\n",
    "    elif (prediction[0] == 2):\n",
    "        prediction = \"Customer with low annual income and low spending score\"\n",
    "    elif (prediction[0] == 3):\n",
    "        prediction = \"Customer with low annual income and high spending score\"\n",
    "    elif (prediction[0] == 4):\n",
    "        prediction = \"Customer with high annual income and high spending score\"\n",
    "        \n",
    "        \n",
    "    return {\n",
    "        'prediction': prediction\n",
    "    }\n",
    "    "
   ]
  },
  {
   "cell_type": "code",
   "execution_count": 10,
   "id": "ed59db17",
   "metadata": {},
   "outputs": [],
   "source": [
    "import nest_asyncio\n",
    "nest_asyncio.apply()"
   ]
  },
  {
   "cell_type": "code",
   "execution_count": 11,
   "id": "0096f8da",
   "metadata": {},
   "outputs": [
    {
     "name": "stderr",
     "output_type": "stream",
     "text": [
      "INFO:     Started server process [12748]\n",
      "INFO:     Waiting for application startup.\n",
      "INFO:     Application startup complete.\n",
      "INFO:     Uvicorn running on http://127.0.0.1:8000 (Press CTRL+C to quit)\n"
     ]
    },
    {
     "name": "stdout",
     "output_type": "stream",
     "text": [
      "INFO:     127.0.0.1:54335 - \"GET / HTTP/1.1\" 200 OK\n",
      "INFO:     127.0.0.1:54335 - \"GET /favicon.ico HTTP/1.1\" 200 OK\n",
      "INFO:     127.0.0.1:54336 - \"GET /docs HTTP/1.1\" 200 OK\n",
      "INFO:     127.0.0.1:54336 - \"GET /openapi.json HTTP/1.1\" 200 OK\n",
      "[[20 65]]\n",
      "INFO:     127.0.0.1:54348 - \"POST /predict HTTP/1.1\" 200 OK\n",
      "[[90 78]]\n",
      "INFO:     127.0.0.1:54355 - \"POST /predict HTTP/1.1\" 200 OK\n",
      "INFO:     127.0.0.1:54725 - \"GET /favicon.ico HTTP/1.1\" 200 OK\n",
      "[[20 65]]\n",
      "INFO:     127.0.0.1:54765 - \"POST /predict HTTP/1.1\" 200 OK\n",
      "[[90 78]]\n",
      "INFO:     127.0.0.1:54795 - \"POST /predict HTTP/1.1\" 200 OK\n"
     ]
    },
    {
     "name": "stderr",
     "output_type": "stream",
     "text": [
      "INFO:     Shutting down\n",
      "INFO:     Waiting for application shutdown.\n",
      "INFO:     Application shutdown complete.\n",
      "INFO:     Finished server process [12748]\n"
     ]
    }
   ],
   "source": [
    "if __name__ == '__main__':\n",
    "    uvicorn.run(app, host = '127.0.0.1', port = 8000)"
   ]
  },
  {
   "cell_type": "code",
   "execution_count": null,
   "id": "3173f30d",
   "metadata": {},
   "outputs": [],
   "source": []
  }
 ],
 "metadata": {
  "kernelspec": {
   "display_name": "Python 3",
   "language": "python",
   "name": "python3"
  },
  "language_info": {
   "codemirror_mode": {
    "name": "ipython",
    "version": 3
   },
   "file_extension": ".py",
   "mimetype": "text/x-python",
   "name": "python",
   "nbconvert_exporter": "python",
   "pygments_lexer": "ipython3",
   "version": "3.7.13"
  }
 },
 "nbformat": 4,
 "nbformat_minor": 5
}
